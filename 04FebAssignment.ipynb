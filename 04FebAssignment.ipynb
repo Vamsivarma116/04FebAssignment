{
 "cells": [
  {
   "cell_type": "code",
   "execution_count": 24,
   "id": "3934321f-7fd5-4d49-a407-42e810af38cc",
   "metadata": {},
   "outputs": [
    {
     "name": "stdout",
     "output_type": "stream",
     "text": [
      "Given List :  [('Sachin Tendulkar', 34357), ('Ricky Ponting', 27483), ('Jack Kallis', 25534), ('Virat Kohli', 24936)]\n",
      "Sorted List :  [('Virat Kohli', 24936), ('Jack Kallis', 25534), ('Ricky Ponting', 27483), ('Sachin Tendulkar', 34357)]\n"
     ]
    }
   ],
   "source": [
    "\"\"\"Q1. Create a python program to sort the given list of tuples based on integer value using a\n",
    "       lambda function.\n",
    "       [('Sachin Tendulkar', 34357), ('Ricky Ponting', 27483), ('Jack Kallis', 25534), ('Virat Kohli', 24936)]\"\"\"\n",
    "\n",
    "l1=[('Sachin Tendulkar', 34357), ('Ricky Ponting', 27483), ('Jack Kallis', 25534), ('Virat Kohli', 24936)]\n",
    "\n",
    "print(\"Given List : \",l1)\n",
    "\n",
    "l1=list(map(lambda x:x[::-1],l1))\n",
    "\n",
    "x=lambda l:l.sort()\n",
    "\n",
    "x(l1)\n",
    "\n",
    "l1=list(map(lambda x:x[::-1],l1))\n",
    "\n",
    "print(\"Sorted List : \",l1)\n"
   ]
  },
  {
   "cell_type": "code",
   "execution_count": 26,
   "id": "c17f860a-2441-4f81-b97b-125787659ea4",
   "metadata": {},
   "outputs": [
    {
     "name": "stdout",
     "output_type": "stream",
     "text": [
      "Given List     :  [1, 2, 3, 4, 5, 6, 7, 8, 9, 10]\n",
      "Squares of List:  [1, 4, 9, 16, 25, 36, 49, 64, 81, 100]\n"
     ]
    }
   ],
   "source": [
    "\"\"\"Q2. Write a Python Program to find the squares of all the numbers in the given list of integers using\n",
    "       lambda and map functions.\n",
    "       [1, 2, 3, 4, 5, 6, 7, 8, 9, 10]\"\"\"\n",
    "\n",
    "l2=[1, 2, 3, 4, 5, 6, 7, 8, 9, 10]\n",
    "\n",
    "print(\"Given List     : \",l2)\n",
    "\n",
    "l3=list(map(lambda x:x**2,l2))\n",
    "\n",
    "print(\"Squares of List: \",l3)"
   ]
  },
  {
   "cell_type": "code",
   "execution_count": 27,
   "id": "cce44312-d768-4909-b3d5-ca618f0c4b24",
   "metadata": {},
   "outputs": [
    {
     "name": "stdout",
     "output_type": "stream",
     "text": [
      "Given List      :  [1, 2, 3, 4, 5, 6, 7, 8, 9, 10]\n",
      "Expected output :  ('1', '2', '3', '4', '5', '6', '7', '8', '9', '10')\n"
     ]
    }
   ],
   "source": [
    "\"\"\"Q3. Write a python program to convert the given list of integers into a tuple of strings. Use map and\n",
    "       lambda functions\n",
    "       Given String: [1, 2, 3, 4, 5, 6, 7, 8, 9, 10]\n",
    "       Expected output: ('1', '2', '3', '4', '5', '6', '7', '8', '9', '10')\"\"\"\n",
    "\n",
    "l4=[1, 2, 3, 4, 5, 6, 7, 8, 9, 10]\n",
    "\n",
    "print(\"Given List      : \",l4)\n",
    "\n",
    "t=tuple(map(lambda x:str(x),l4))\n",
    "        \n",
    "print(\"Expected output : \",t)"
   ]
  },
  {
   "cell_type": "code",
   "execution_count": 28,
   "id": "e23ef149-7700-4141-9670-d62f876de7d5",
   "metadata": {},
   "outputs": [
    {
     "name": "stdout",
     "output_type": "stream",
     "text": [
      "Given List           :  [1, 2, 3, 4, 5, 6, 7, 8, 9, 10, 11, 12, 13, 14, 15, 16, 17, 18, 19, 20, 21, 22, 23, 24, 25]\n",
      "product_of_Elements  : 15511210043330985984000000\n"
     ]
    }
   ],
   "source": [
    "\"\"\"Q4. Write a python program using reduce function to compute the product of a list containing numbers\n",
    "       from 1 to 25.\"\"\"\n",
    "\n",
    "from functools import reduce\n",
    "\n",
    "l5=list(range(1,26))\n",
    "\n",
    "print(\"Given List           : \",l5)\n",
    "\n",
    "product_of_Elements=reduce(lambda x,y:x*y,l5)\n",
    "\n",
    "print(\"product_of_Elements  :\",product_of_Elements )"
   ]
  },
  {
   "cell_type": "code",
   "execution_count": 29,
   "id": "928edff1-3656-4dcd-bf5c-735e8d608b29",
   "metadata": {},
   "outputs": [
    {
     "name": "stdout",
     "output_type": "stream",
     "text": [
      "Given List      :  [2, 3, 6, 9, 27, 60, 90, 120, 55, 46]\n",
      "Expected Output :  [6, 60, 90, 120]\n"
     ]
    }
   ],
   "source": [
    "\"\"\"Q5. Write a python program to filter the numbers in a given list that are divisible by 2 and 3 using the\n",
    "       filter function.\n",
    "       [2, 3, 6, 9, 27, 60, 90, 120, 55, 46]\"\"\"\n",
    "\n",
    "l6=[2, 3, 6, 9, 27, 60, 90, 120, 55, 46]\n",
    "\n",
    "print(\"Given List      : \",l6)\n",
    "\n",
    "l7=list(filter(lambda x: (x%2==0 and x%3==0),l6))\n",
    "\n",
    "print(\"Expected Output : \",l7)"
   ]
  },
  {
   "cell_type": "code",
   "execution_count": 30,
   "id": "3eaeb677-5256-4035-b0bc-f7f573c64489",
   "metadata": {},
   "outputs": [
    {
     "name": "stdout",
     "output_type": "stream",
     "text": [
      "Given List               :  ['python', 'php', 'aba', 'radar', 'level']\n",
      "Palindromes in Given List:  ['php', 'aba', 'radar', 'level']\n"
     ]
    }
   ],
   "source": [
    "\"\"\"Q6. Write a python program to find palindromes in the given list of strings using lambda and filter\n",
    "       function.\n",
    "       ['python', 'php', 'aba', 'radar', 'level']\"\"\"\n",
    "\n",
    "l8=['python', 'php', 'aba', 'radar', 'level']\n",
    "\n",
    "print(\"Given List               : \",l8)\n",
    "\n",
    "l9=list(filter(lambda s:s==s[::-1],l8))\n",
    "\n",
    "print(\"Palindromes in Given List: \",l9)\n"
   ]
  }
 ],
 "metadata": {
  "kernelspec": {
   "display_name": "Python 3 (ipykernel)",
   "language": "python",
   "name": "python3"
  },
  "language_info": {
   "codemirror_mode": {
    "name": "ipython",
    "version": 3
   },
   "file_extension": ".py",
   "mimetype": "text/x-python",
   "name": "python",
   "nbconvert_exporter": "python",
   "pygments_lexer": "ipython3",
   "version": "3.10.8"
  }
 },
 "nbformat": 4,
 "nbformat_minor": 5
}
